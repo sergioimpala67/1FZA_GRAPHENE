{
 "cells": [
  {
   "cell_type": "code",
   "execution_count": 1,
   "metadata": {},
   "outputs": [],
   "source": [
    "import numpy"
   ]
  },
  {
   "cell_type": "code",
   "execution_count": 2,
   "metadata": {},
   "outputs": [],
   "source": [
    "configuracion_1=open('config_2.txt','r')\n",
    "aux_atom=open('aux_atom.txt','w')\n",
    "aux_drude=open('aux_drude.txt','w')\n",
    "for line in configuracion_1:\n",
    "    line_1=line.split()\n",
    "    #print(line_1)\n",
    "    if line_1[2]=='1': #atomo\n",
    "        atomo='{0} {1} {2}\\n'.format(line_1[3],line_1[4],line_1[5])\n",
    "        aux_atom.write(atomo)\n",
    "    if line_1[2]=='2': #drude\n",
    "        drude='{0} {1} {2}\\n'.format(line_1[3],line_1[4],line_1[5])\n",
    "        aux_drude.write(drude)\n",
    "aux_atom.close()\n",
    "aux_drude.close()\n",
    "configuracion_1.close()     "
   ]
  },
  {
   "cell_type": "code",
   "execution_count": 3,
   "metadata": {},
   "outputs": [],
   "source": [
    "aux_read_atomo=open('aux_atom.txt','r')\n",
    "aux_read_drude=open('aux_drude.txt','r')\n",
    "\n",
    "Atom_Espacio=numpy.loadtxt(aux_read_atomo)\n",
    "Drude_Espacio=numpy.loadtxt(aux_read_drude)"
   ]
  },
  {
   "cell_type": "code",
   "execution_count": 4,
   "metadata": {},
   "outputs": [],
   "source": [
    "import matplotlib.pyplot as plt\n",
    "%matplotlib inline"
   ]
  },
  {
   "cell_type": "code",
   "execution_count": 5,
   "metadata": {},
   "outputs": [
    {
     "name": "stdout",
     "output_type": "stream",
     "text": [
      "Atom: [[488.952  485.739   47.1567]\n",
      " [ 15.0702 485.759   47.1678]\n",
      " [ 17.7486 485.76    47.309 ]\n",
      " ...\n",
      " [484.229  484.566   47.0408]\n",
      " [486.912  484.574   47.1978]\n",
      " [488.261  484.564   47.2104]]\n",
      "Drude: [[488.953  485.739   47.1563]\n",
      " [ 15.0717 485.761   47.1673]\n",
      " [ 17.7486 485.758   47.3086]\n",
      " ...\n",
      " [484.23   484.565   47.0403]\n",
      " [486.911  484.576   47.1974]\n",
      " [488.259  484.564   47.2113]]\n",
      "centro: [[488.9525  485.739    47.1565 ]\n",
      " [ 15.07095 485.76     47.16755]\n",
      " [ 17.7486  485.759    47.3088 ]\n",
      " ...\n",
      " [484.2295  484.5655   47.04055]\n",
      " [486.9115  484.575    47.1976 ]\n",
      " [488.26    484.564    47.21085]]\n",
      "numero de atomos 95816\n"
     ]
    }
   ],
   "source": [
    "print('Atom:',Atom_Espacio)\n",
    "print('Drude:',Drude_Espacio)\n",
    "Centro_Espacio=(Drude_Espacio + Atom_Espacio)/2\n",
    "print('centro:',Centro_Espacio)\n",
    "\n",
    "print('numero de atomos',len(Drude_Espacio[:,0]))"
   ]
  },
  {
   "cell_type": "code",
   "execution_count": 6,
   "metadata": {},
   "outputs": [],
   "source": [
    "#verificación que atomos de C y drude se encuentren dentro del Radio de Van der Waals.\n",
    "\n",
    "#d1:distancia entre centro y drude\n",
    "#d2:distancia entre centro y atomo de C\n",
    "\n",
    "d1= abs(Drude_Espacio - Centro_Espacio)\n",
    "d2= abs(Centro_Espacio - Atom_Espacio)"
   ]
  },
  {
   "cell_type": "code",
   "execution_count": 7,
   "metadata": {},
   "outputs": [],
   "source": [
    "#d2 #x listo, y listo, z listo\n",
    "\n",
    "for i in range(95816):\n",
    "    if d2[i,2]>1.7:\n",
    "        print(i)\n",
    "        print(d2[i,0])\n",
    "        print('atomo_queda_fuera_de_RdVW')"
   ]
  },
  {
   "cell_type": "code",
   "execution_count": 8,
   "metadata": {},
   "outputs": [],
   "source": [
    "#d1 #x listo, y listo, z listo\n",
    "\n",
    "for i in range(95816):\n",
    "    if d1[i,2]>1.7:\n",
    "        print(i)\n",
    "        print(d1[i,0])\n",
    "        print('atomo_queda_fuera_de_RdVW')"
   ]
  },
  {
   "cell_type": "code",
   "execution_count": 9,
   "metadata": {},
   "outputs": [],
   "source": [
    "#Luego de la Verificación se procede a crear archivos pqr y xyzr para generar mallas de grafeno."
   ]
  },
  {
   "cell_type": "code",
   "execution_count": null,
   "metadata": {},
   "outputs": [],
   "source": []
  },
  {
   "cell_type": "code",
   "execution_count": 10,
   "metadata": {},
   "outputs": [],
   "source": [
    "#generar archivo.pqr a partir de datos originales de membrana de grafeno. En este caso configuracion 2\n",
    "pqr_grafeno=open('grafeno_config_2.pqr','w')\n",
    "configuracion_1=open('config_2.txt','r')\n",
    "\n",
    "q_atomo='-0.26'\n",
    "q_drude='0.26'\n",
    "q_centro='0'\n",
    "r_atomo='0'\n",
    "r_drude='0'\n",
    "r_centro='1.7'\n",
    "\n",
    "for line in configuracion_1:\n",
    "    line_1=line.split()\n",
    "    if line_1[2]=='1':\n",
    "        pqr_line='ATOM   '+str(line_1[0])+'  A  A  111  '+str(line_1[3])+'  '+str(line_1[5])+'  '+str(line_1[4])+'  '+q_atomo+'  '+r_atomo+'\\n'\n",
    "        pqr_grafeno.write(pqr_line)\n",
    "    if line_1[2]=='2':\n",
    "        pqr_line='ATOM   '+str(line_1[0])+'  A  A  112  '+str(line_1[3])+'  '+str(line_1[5])+'  '+str(line_1[4])+'  '+q_drude+'  '+r_drude+'\\n'\n",
    "        pqr_grafeno.write(pqr_line)\n",
    "\n",
    "for i in range(95816):\n",
    "    pqr_line= pqr_line='ATOM   '+str(95816*2+i+1)+'  A  A  113  '+str(Centro_Espacio[i,0])+'  '+str(Centro_Espacio[i,2])+'  '+str(Centro_Espacio[i,1])+'  '+q_centro+'  '+r_centro+'\\n'\n",
    "    pqr_grafeno.write(pqr_line)\n",
    "    \n",
    "pqr_grafeno.close()"
   ]
  },
  {
   "cell_type": "code",
   "execution_count": 11,
   "metadata": {},
   "outputs": [],
   "source": [
    "#generar archivo.xyzr a partir de pqr de grafeno\n",
    "pqr_grafeno_read=open('grafeno_config_2.pqr','r')\n",
    "xyzr_grafeno=open('grafeno_config_2.xyzr','w')\n",
    "\n",
    "for line in pqr_grafeno_read:\n",
    "    line_1=line.split()\n",
    "    if line_1[4]=='113':\n",
    "        xyzr_line=str(line_1[5])+' '+str(line_1[6])+' '+str(line_1[7])+' '+str(line_1[9])+'\\n'\n",
    "        xyzr_grafeno.write(xyzr_line)\n",
    "xyzr_grafeno.close()"
   ]
  },
  {
   "cell_type": "code",
   "execution_count": 12,
   "metadata": {},
   "outputs": [],
   "source": [
    "#generar archivo.pqr de membrana de grafeno para vizualizacion\n",
    "#La diferencia de este pqr con el anterior es que solo posee los atomos que tienen radio distinto de 0.\n",
    "\n",
    "pqr_grafeno_vizualizacion=open('grafeno_config_2_vizualizacion.pqr','w')\n",
    "configuracion_1=open('config_2.txt','r')\n",
    "\n",
    "q_atomo='-0.26'\n",
    "q_drude='0.26'\n",
    "q_centro='0'\n",
    "r_atomo='0'\n",
    "r_drude='0'\n",
    "r_centro='1.7'\n",
    "\n",
    "for i in range(95816):\n",
    "    pqr_line= pqr_line='ATOM   '+str(i)+'  C6  ALA  113  '+str(Centro_Espacio[i,0])+'  '+str(Centro_Espacio[i,2])+'  '+str(Centro_Espacio[i,1])+'  '+q_centro+'  '+r_centro+'\\n'\n",
    "    pqr_grafeno_vizualizacion.write(pqr_line)\n",
    "    \n",
    "pqr_grafeno_vizualizacion.close()"
   ]
  },
  {
   "cell_type": "code",
   "execution_count": 13,
   "metadata": {},
   "outputs": [],
   "source": [
    "#debido a que la membrana de grafeno se encuentra en cualquier parte del espacio, es necesario\n",
    "#trasladar cada uno de los atomos a una distancia que permita una manipulación mas facil.\n",
    "#es por esto que se centra aproximadamente en x=0, z=0, y  la \"cara superior\" en y=0."
   ]
  },
  {
   "cell_type": "code",
   "execution_count": 14,
   "metadata": {},
   "outputs": [
    {
     "name": "stdout",
     "output_type": "stream",
     "text": [
      "centro_x_atom: 251.34150000000002 centro_y_atom: 47.7052 centro_z_atom: 249.68745\n",
      "centro_x_drude: 251.34095000000002 centro_y_drude: 47.7053 centro_z_drude: 249.68705\n",
      "centro_x_centro: 251.341225 centro_y_centro: 47.70525 centro_z_centro: 249.68725\n"
     ]
    }
   ],
   "source": [
    "#traslacion pqr\n",
    "#atomo\n",
    "Centro_x_atom=(max(Atom_Espacio[:,0]) + min(Atom_Espacio[:,0]))/2\n",
    "Centro_y_atom=max(Atom_Espacio[:,2])\n",
    "Centro_z_atom=(max(Atom_Espacio[:,1]) + min(Atom_Espacio[:,1]))/2\n",
    "print('centro_x_atom:',Centro_x_atom,'centro_y_atom:',Centro_y_atom,'centro_z_atom:',Centro_z_atom)\n",
    "#Drude\n",
    "Centro_x_drude=(max(Drude_Espacio[:,0]) + min(Drude_Espacio[:,0]))/2\n",
    "Centro_y_drude=max(Drude_Espacio[:,2])\n",
    "Centro_z_drude=(max(Drude_Espacio[:,1]) + min(Drude_Espacio[:,1]))/2\n",
    "print('centro_x_drude:',Centro_x_drude,'centro_y_drude:',Centro_y_drude,'centro_z_drude:',Centro_z_drude)\n",
    "#Centro_atom_drude\n",
    "Centro_x_centro=(max(Centro_Espacio[:,0]) + min(Centro_Espacio[:,0]))/2\n",
    "Centro_y_centro=max(Centro_Espacio[:,2]) \n",
    "Centro_z_centro=(max(Centro_Espacio[:,1]) + min(Centro_Espacio[:,1]))/2\n",
    "print('centro_x_centro:',Centro_x_centro,'centro_y_centro:',Centro_y_centro,'centro_z_centro:',Centro_z_centro)"
   ]
  },
  {
   "cell_type": "code",
   "execution_count": 15,
   "metadata": {},
   "outputs": [],
   "source": [
    "#generar archivo.pqr de membrana de grafeno: configuracion 2 trasladada a la posicion requerida.\n",
    "#si se utiliza otra configuracion de la membrana de grafeno, cambiar valores de coordenadas de ATOM en base a\n",
    "#los obtenidos en la casilla anterior.\n",
    "\n",
    "pqr_grafeno_traslacion=open('grafeno_config_2_traslacion.pqr','w')\n",
    "configuracion_1=open('config_2.txt','r')\n",
    "\n",
    "q_atomo='-0.26'\n",
    "q_drude='0.26'\n",
    "q_centro='0'\n",
    "r_atomo='0'\n",
    "r_drude='0'\n",
    "r_centro='1.7'\n",
    "\n",
    "for line in configuracion_1:\n",
    "    line_1=line.split()\n",
    "    if line_1[2]=='1':\n",
    "        pqr_line='ATOM   '+str(line_1[0])+'  A  A  111  '+str(float(line_1[3]) - 251.3415)+'  '+str(float(line_1[5]) - 47.7052 - 1.7)+'  '+str(float(line_1[4]) - 249.68745)+'  '+q_atomo+'  '+r_atomo+'\\n'\n",
    "        pqr_grafeno_traslacion.write(pqr_line)\n",
    "    if line_1[2]=='2':\n",
    "        pqr_line='ATOM   '+str(line_1[0])+'  A  A  112  '+str(float(line_1[3]) - 251.34095)+'  '+str(float(line_1[5]) - 47.7053 - 1.7)+'  '+str(float(line_1[4]) - 249.68705)+'  '+q_drude+'  '+r_drude+'\\n'\n",
    "        pqr_grafeno_traslacion.write(pqr_line)\n",
    "\n",
    "for i in range(95816):\n",
    "    pqr_line='ATOM   '+str(95816*2+i+1)+'  A  A  113  '+str(Centro_Espacio[i,0] - 251.341225)+'  '+str(Centro_Espacio[i,2] - 47.70525 - 1.7)+'  '+str(Centro_Espacio[i,1] - 249.68725)+'  '+q_centro+'  '+r_centro+'\\n'\n",
    "    pqr_grafeno_traslacion.write(pqr_line)\n",
    "    \n",
    "pqr_grafeno_traslacion.close()"
   ]
  },
  {
   "cell_type": "code",
   "execution_count": 16,
   "metadata": {},
   "outputs": [],
   "source": [
    "#generar archivo.xyzr a partir de pqr de grafeno trasladada\n",
    "\n",
    "pqr_grafeno_read_trasladada=open('grafeno_config_2_traslacion.pqr','r')\n",
    "xyzr_grafeno_trasladada=open('grafeno_config_2_traslacion.xyzr','w')\n",
    "\n",
    "for line in pqr_grafeno_read_trasladada:\n",
    "    line_1=line.split()\n",
    "    if line_1[4]=='113':\n",
    "        xyzr_line=str(line_1[5])+' '+str(line_1[6])+' '+str(line_1[7])+' '+str(line_1[9])+'\\n'\n",
    "        xyzr_grafeno_trasladada.write(xyzr_line)\n",
    "xyzr_grafeno_trasladada.close()"
   ]
  },
  {
   "cell_type": "code",
   "execution_count": 17,
   "metadata": {},
   "outputs": [],
   "source": [
    "#generar archivo.pqr de membrana de grafeno para vizualizacion: configuracion 2 trasladada\n",
    "#La diferencia de este pqr con el anterior es que solo posee los atomos que tienen radio distinto de 0.\n",
    "\n",
    "pqr_grafeno_vizualizacion_tras=open('grafeno_config_2_vizualizacion_traslacion.pqr','w')\n",
    "configuracion_1=open('config_2.txt','r')\n",
    "\n",
    "q_atomo='-0.26'\n",
    "q_drude='0.26'\n",
    "q_centro='0'\n",
    "r_atomo='0'\n",
    "r_drude='0'\n",
    "r_centro='1.7'\n",
    "\n",
    "for i in range(95816):\n",
    "    pqr_line= 'ATOM   '+str(i)+'  C  ALA  113  '+str(Centro_Espacio[i,0] - 251.341225)+'  '+str(Centro_Espacio[i,2] - 47.70525 - 1.7)+'  '+str(Centro_Espacio[i,1] - 249.68725)+'  '+q_centro+'  '+r_centro+'\\n'\n",
    "    pqr_grafeno_vizualizacion_tras.write(pqr_line)\n",
    "    \n",
    "pqr_grafeno_vizualizacion_tras.close()"
   ]
  },
  {
   "cell_type": "code",
   "execution_count": 18,
   "metadata": {},
   "outputs": [],
   "source": [
    "#Eliminación de Archivos Auxiliares o No utiles.\n",
    "from os import remove\n",
    "remove(\"aux_atom.txt\")\n",
    "remove(\"aux_drude.txt\")"
   ]
  },
  {
   "cell_type": "code",
   "execution_count": null,
   "metadata": {},
   "outputs": [],
   "source": []
  }
 ],
 "metadata": {
  "kernelspec": {
   "display_name": "Python 3",
   "language": "python",
   "name": "python3"
  },
  "language_info": {
   "codemirror_mode": {
    "name": "ipython",
    "version": 3
   },
   "file_extension": ".py",
   "mimetype": "text/x-python",
   "name": "python",
   "nbconvert_exporter": "python",
   "pygments_lexer": "ipython3",
   "version": "3.6.5"
  }
 },
 "nbformat": 4,
 "nbformat_minor": 2
}
